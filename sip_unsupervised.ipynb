{
  "nbformat": 4,
  "nbformat_minor": 0,
  "metadata": {
    "colab": {
      "provenance": [],
      "authorship_tag": "ABX9TyNOTjAHU+q+9sbEORU982py",
      "include_colab_link": true
    },
    "kernelspec": {
      "name": "python3",
      "display_name": "Python 3"
    },
    "language_info": {
      "name": "python"
    }
  },
  "cells": [
    {
      "cell_type": "markdown",
      "metadata": {
        "id": "view-in-github",
        "colab_type": "text"
      },
      "source": [
        "<a href=\"https://colab.research.google.com/github/nackjaylor/sydney-innovation-program/blob/main/sip_unsupervised.ipynb\" target=\"_parent\"><img src=\"https://colab.research.google.com/assets/colab-badge.svg\" alt=\"Open In Colab\"/></a>"
      ]
    },
    {
      "cell_type": "code",
      "execution_count": 3,
      "metadata": {
        "id": "rSsCyEMP-sCf"
      },
      "outputs": [],
      "source": [
        "import torch\n",
        "from torch import nn\n",
        "from torchvision import datasets, transforms\n",
        "import matplotlib.pyplot as plt\n",
        "%matplotlib inline"
      ]
    },
    {
      "cell_type": "code",
      "source": [
        "transform = transforms.Compose([transforms.ToTensor()])"
      ],
      "metadata": {
        "id": "Qjaw23CbcBoj"
      },
      "execution_count": 4,
      "outputs": []
    },
    {
      "cell_type": "code",
      "source": [
        "class AutoEncoder_Linear(nn.Module):\n",
        "\n",
        "  def __init__(self):\n",
        "    super().__init__()\n",
        "\n",
        "\n",
        "    self.encoder = torch.nn.Sequential(\n",
        "            torch.nn.Linear(28 * 28, 128),\n",
        "            torch.nn.ReLU(),\n",
        "            torch.nn.Linear(128, 64),\n",
        "            torch.nn.ReLU(),\n",
        "            torch.nn.Linear(64, 36),\n",
        "            torch.nn.ReLU(),\n",
        "            torch.nn.Linear(36, 18),\n",
        "            torch.nn.ReLU(),\n",
        "            torch.nn.Linear(18, 9)\n",
        "        )\n",
        "    \n",
        "    self.decoder = torch.nn.Sequential(\n",
        "                torch.nn.Linear(9, 18),\n",
        "                torch.nn.ReLU(),\n",
        "                torch.nn.Linear(18, 36),\n",
        "                torch.nn.ReLU(),\n",
        "                torch.nn.Linear(36, 64),\n",
        "                torch.nn.ReLU(),\n",
        "                torch.nn.Linear(64, 128),\n",
        "                torch.nn.ReLU(),\n",
        "                torch.nn.Linear(128, 28 * 28),\n",
        "                torch.nn.Sigmoid()\n",
        "            )\n",
        "    \n",
        "    def forward(self, x):\n",
        "\n",
        "      x = self.encoder(x)\n",
        "      x = self.decoder(x)\n",
        "\n",
        "      return x"
      ],
      "metadata": {
        "id": "4HXnOnBCc6th"
      },
      "execution_count": null,
      "outputs": []
    }
  ]
}