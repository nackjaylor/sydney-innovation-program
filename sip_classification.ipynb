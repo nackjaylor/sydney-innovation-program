{
  "nbformat": 4,
  "nbformat_minor": 0,
  "metadata": {
    "colab": {
      "provenance": [],
      "authorship_tag": "ABX9TyPGrqZag416wkThe9awxbWo",
      "include_colab_link": true
    },
    "kernelspec": {
      "name": "python3",
      "display_name": "Python 3"
    },
    "language_info": {
      "name": "python"
    }
  },
  "cells": [
    {
      "cell_type": "markdown",
      "metadata": {
        "id": "view-in-github",
        "colab_type": "text"
      },
      "source": [
        "<a href=\"https://colab.research.google.com/github/nackjaylor/sydney-innovation-program/blob/main/sip_classification.ipynb\" target=\"_parent\"><img src=\"https://colab.research.google.com/assets/colab-badge.svg\" alt=\"Open In Colab\"/></a>"
      ]
    },
    {
      "cell_type": "markdown",
      "source": [
        "# Sydney Innovation Program - SVM Exercise\n",
        "\n",
        "In this exercise, we will be using a support vector machine (SVM) to perform a classification task. In particular, we will be using the Breast Cancer Wisconsin Diagnostic Dataset to make predictions as to whether a patient has breast cancer, from a range of attributes.\n",
        "\n",
        "This first cell imports the required libraries:\n",
        "1. Pandas: deals with datastructures\n",
        "2. Numpy: Numerical Computing Library\n",
        "3. Matplotlib: Graphing Library\n",
        "4. Seaborn: Statistical Visualisation Library"
      ],
      "metadata": {
        "id": "2ET0jSE0KUgb"
      }
    },
    {
      "cell_type": "code",
      "execution_count": null,
      "metadata": {
        "id": "liUz6K77Jo97"
      },
      "outputs": [],
      "source": [
        "import pandas as pd\n",
        "import numpy as np\n",
        "import matplotlib.pyplot as plt\n",
        "import seaborn as sns\n",
        "%matplotlib inline"
      ]
    },
    {
      "cell_type": "markdown",
      "source": [
        "From the datasets module, load the breast cancer dataset."
      ],
      "metadata": {
        "id": "Nf2YCbjALFNU"
      }
    },
    {
      "cell_type": "code",
      "source": [
        "from sklearn.datasets import load_breast_cancer"
      ],
      "metadata": {
        "id": "3Z_laE7AJ5Zr"
      },
      "execution_count": null,
      "outputs": []
    },
    {
      "cell_type": "markdown",
      "source": [
        "We want to take a look at what this dataset contains, so we print a description."
      ],
      "metadata": {
        "id": "2KunBK6CLK5x"
      }
    },
    {
      "cell_type": "code",
      "source": [
        "cancer_dset = load_breast_cancer()\n",
        "print(cancer_dset.DESCR)"
      ],
      "metadata": {
        "id": "PxQpo4qQKESO"
      },
      "execution_count": null,
      "outputs": []
    },
    {
      "cell_type": "code",
      "source": [
        "cancer_dset.keys()"
      ],
      "metadata": {
        "id": "uGjI_18wLftY"
      },
      "execution_count": null,
      "outputs": []
    },
    {
      "cell_type": "code",
      "source": [
        "df_feat = pd.DataFrame(data=np.c_[cancer_dset['data'], cancer_dset['target']], columns=np.append(cancer_dset['feature_names'], ['target']))\n",
        "df_feat.head(10)"
      ],
      "metadata": {
        "id": "Wo2yWloWLjo0"
      },
      "execution_count": null,
      "outputs": []
    },
    {
      "cell_type": "code",
      "source": [
        "df_feat.info()\n",
        "cancer_dset.target_names"
      ],
      "metadata": {
        "id": "4aLFAhS6L2qR"
      },
      "execution_count": null,
      "outputs": []
    },
    {
      "cell_type": "code",
      "source": [
        "sns.pairplot(df_feat, hue = 'target', vars = ['mean radius', 'mean texture', 'mean perimeter', 'mean area', 'mean smoothness', 'mean symmetry'])"
      ],
      "metadata": {
        "id": "IeJfsCEK00PP"
      },
      "execution_count": null,
      "outputs": []
    },
    {
      "cell_type": "code",
      "source": [
        "plt.figure(figsize=(25,16))\n",
        "sns.heatmap(df_feat.corr(), annot = True)"
      ],
      "metadata": {
        "id": "eMy6OzzE3gto"
      },
      "execution_count": null,
      "outputs": []
    },
    {
      "cell_type": "markdown",
      "source": [
        "## Training an SVM\n",
        "\n",
        "Now we've taken a look at the data, we can train an SVM!"
      ],
      "metadata": {
        "id": "BQigMe954T2H"
      }
    },
    {
      "cell_type": "code",
      "source": [
        "x = df_feat.drop(['target'],axis=1)\n",
        "x.head()"
      ],
      "metadata": {
        "id": "q68D4GJ14J-O"
      },
      "execution_count": null,
      "outputs": []
    },
    {
      "cell_type": "code",
      "source": [
        "y = df_feat['target']\n",
        "y.head()"
      ],
      "metadata": {
        "id": "Go0QNhgDA89W"
      },
      "execution_count": null,
      "outputs": []
    },
    {
      "cell_type": "code",
      "source": [
        "from sklearn.model_selection import train_test_split"
      ],
      "metadata": {
        "id": "g9af-on0BDMc"
      },
      "execution_count": null,
      "outputs": []
    },
    {
      "cell_type": "code",
      "source": [
        "train_x, test_x, train_y, test_y = train_test_split(x, y, test_size = 0.15, random_state = 16)"
      ],
      "metadata": {
        "id": "ObX3TuS6BLcN"
      },
      "execution_count": null,
      "outputs": []
    },
    {
      "cell_type": "code",
      "source": [
        "print(f'{train_x.shape} for training')\n",
        "print(f'{test_x.shape} for testing')\n"
      ],
      "metadata": {
        "id": "S_dQ_2PkBncF"
      },
      "execution_count": null,
      "outputs": []
    },
    {
      "cell_type": "code",
      "source": [
        "from sklearn.svm import SVC"
      ],
      "metadata": {
        "id": "vzpBhWYFB9gQ"
      },
      "execution_count": null,
      "outputs": []
    },
    {
      "cell_type": "markdown",
      "source": [
        "### FOR YOU TO DO\n",
        "Experiment With the kernel! Choose out of linear, poly, sigmoid, rbf, or precomputed."
      ],
      "metadata": {
        "id": "pkpAiZaJ6chn"
      }
    },
    {
      "cell_type": "code",
      "source": [
        "svm_model = SVC(kernel='linear')"
      ],
      "metadata": {
        "id": "pOB5vNKXCFZ4"
      },
      "execution_count": null,
      "outputs": []
    },
    {
      "cell_type": "code",
      "source": [
        "svm_model.fit(train_x, train_y)"
      ],
      "metadata": {
        "id": "U6gG2zhcDrzn"
      },
      "execution_count": null,
      "outputs": []
    },
    {
      "cell_type": "code",
      "source": [
        "predict_y = svm_model.predict(test_x)"
      ],
      "metadata": {
        "id": "jUoK2xQBD1Ob"
      },
      "execution_count": null,
      "outputs": []
    },
    {
      "cell_type": "code",
      "source": [
        "from sklearn.metrics import classification_report, confusion_matrix"
      ],
      "metadata": {
        "id": "DtsVVEgyD7em"
      },
      "execution_count": null,
      "outputs": []
    },
    {
      "cell_type": "code",
      "source": [
        "cm = np.array(confusion_matrix(test_y, predict_y, labels=[1,0]))"
      ],
      "metadata": {
        "id": "C973q_Z8EDMK"
      },
      "execution_count": null,
      "outputs": []
    },
    {
      "cell_type": "code",
      "source": [
        "confusion = pd.DataFrame(cm, index=['is_malignant', 'is_benign'], columns=['predicted_malignant', 'predicted_benign'])\n",
        "sns.heatmap(confusion, annot=True)"
      ],
      "metadata": {
        "id": "cZo6fAWkENIJ"
      },
      "execution_count": null,
      "outputs": []
    },
    {
      "cell_type": "code",
      "source": [
        "print(classification_report(test_y, predict_y))"
      ],
      "metadata": {
        "id": "6mprxOqTE0x9"
      },
      "execution_count": null,
      "outputs": []
    }
  ]
}