{
  "nbformat": 4,
  "nbformat_minor": 0,
  "metadata": {
    "colab": {
      "provenance": [],
      "authorship_tag": "ABX9TyM1aJQdUaVEfZSqTwqnbfl4",
      "include_colab_link": true
    },
    "kernelspec": {
      "name": "python3",
      "display_name": "Python 3"
    },
    "language_info": {
      "name": "python"
    }
  },
  "cells": [
    {
      "cell_type": "markdown",
      "metadata": {
        "id": "view-in-github",
        "colab_type": "text"
      },
      "source": [
        "<a href=\"https://colab.research.google.com/github/nackjaylor/sydney-innovation-program/blob/main/sip_unsupervised_and_deep.ipynb\" target=\"_parent\"><img src=\"https://colab.research.google.com/assets/colab-badge.svg\" alt=\"Open In Colab\"/></a>"
      ]
    },
    {
      "cell_type": "code",
      "execution_count": null,
      "metadata": {
        "id": "rSsCyEMP-sCf"
      },
      "outputs": [],
      "source": [
        "import torch\n",
        "from torch import nn\n",
        "from torchvision import datasets, transforms\n",
        "import matplotlib.pyplot as plt\n",
        "%matplotlib inline"
      ]
    },
    {
      "cell_type": "code",
      "source": [
        "transform = transforms.Compose([transforms.ToTensor()])"
      ],
      "metadata": {
        "id": "Qjaw23CbcBoj"
      },
      "execution_count": null,
      "outputs": []
    },
    {
      "cell_type": "code",
      "source": [
        "class AutoEncoder_Linear(nn.Module):\n",
        "\n",
        "  def __init__(self):\n",
        "    super().__init__()\n",
        "\n",
        "\n",
        "    self.encoder = nn.Sequential(\n",
        "            nn.Linear(64 * 64, 128),\n",
        "            nn.ReLU(),\n",
        "            nn.Linear(128, 64),\n",
        "            nn.ReLU(),\n",
        "            nn.Linear(64, 36),\n",
        "            nn.ReLU(),\n",
        "            nn.Linear(36, 18),\n",
        "            nn.ReLU(),\n",
        "            nn.Linear(18, 9)\n",
        "        )\n",
        "    \n",
        "    self.decoder = nn.Sequential(\n",
        "                nn.Linear(9, 18),\n",
        "                nn.ReLU(),\n",
        "                nn.Linear(18, 36),\n",
        "                nn.ReLU(),\n",
        "                nn.Linear(36, 64),\n",
        "                nn.ReLU(),\n",
        "                nn.Linear(64, 128),\n",
        "                nn.ReLU(),\n",
        "                nn.Linear(128, 64 * 64),\n",
        "                nn.Sigmoid()\n",
        "            )\n",
        "    \n",
        "  def forward(self, x):\n",
        "\n",
        "    x = self.encoder(x)\n",
        "    x = self.decoder(x)\n",
        "\n",
        "    return x"
      ],
      "metadata": {
        "id": "4HXnOnBCc6th"
      },
      "execution_count": null,
      "outputs": []
    },
    {
      "cell_type": "code",
      "source": [
        "class AutoEncoder_Convolutional(nn.Module):\n",
        "\n",
        "  def __init__(self):\n",
        "    super().__init__()\n",
        "\n",
        "\n",
        "    self.encoder_cnn = nn.Sequential(\n",
        "            nn.Conv2d(1, 8, 3, stride=2, padding=1),\n",
        "            nn.ReLU(True),\n",
        "            nn.Conv2d(8, 16, 3, stride=2, padding=1),\n",
        "            nn.BatchNorm2d(16),\n",
        "            nn.ReLU(True),\n",
        "            nn.Conv2d(16, 32, 3, stride=2, padding=0),\n",
        "            nn.ReLU(True)\n",
        "        )\n",
        "    self.flatten = nn.Flatten(start_dim=1)\n",
        "    self.encoder_lin = nn.Sequential(\n",
        "            nn.Linear(3 * 3 * 32, 128),\n",
        "            nn.ReLU(True),\n",
        "            nn.Linear(128, 9)\n",
        "        )\n",
        "\n",
        "    self.decoder_lin = nn.Sequential(\n",
        "            nn.Linear(9, 128),\n",
        "            nn.ReLU(True),\n",
        "            nn.Linear(128, 3 * 3 * 32),\n",
        "            nn.ReLU(True)\n",
        "        )\n",
        "\n",
        "    self.unflatten = nn.Unflatten(dim=1, \n",
        "          unflattened_size=(32, 3, 3))\n",
        "\n",
        "    self.decoder_conv = nn.Sequential(\n",
        "        nn.ConvTranspose2d(32, 16, 3, \n",
        "        stride=2, output_padding=0),\n",
        "        nn.BatchNorm2d(16),\n",
        "        nn.ReLU(True),\n",
        "        nn.ConvTranspose2d(16, 8, 3, stride=2, \n",
        "        padding=1, output_padding=1),\n",
        "        nn.BatchNorm2d(8),\n",
        "        nn.ReLU(True),\n",
        "        nn.ConvTranspose2d(8, 1, 3, stride=2, \n",
        "        padding=1, output_padding=1)\n",
        "    )\n",
        "    \n",
        "  def forward(self, x):\n",
        "\n",
        "    x = self.encoder_cnn(x)\n",
        "    x = self.flatten(x)\n",
        "    x = self.encoder_lin(x)\n",
        "    x = self.decoder_lin(x)\n",
        "    x = self.unflatten(x)\n",
        "    x = self.decoder_conv(x)\n",
        "    x = torch.sigmoid(x)\n",
        "\n",
        "    return x"
      ],
      "metadata": {
        "id": "m89MJPG6fnbU"
      },
      "execution_count": null,
      "outputs": []
    },
    {
      "cell_type": "code",
      "source": [
        "def Segmentation_Network(nn.Module):\n",
        "  def __init__(self):\n",
        "    super().__init__()\n",
        "\n",
        "\n",
        "    self.encoder_cnn = AutoEncoder_Convolutional.encoder_cnn\n",
        "\n",
        "    self.feature_extract_1 = nn.Sequential(nn.Conv2d(32, 64, stride = 1),\n",
        "                                           nn.BatchNorm2d(64)\n",
        "                                           nn.Relu()\n",
        "                                           )\n",
        "\n",
        "    self.feature_extract_2 = nn.Sequential(nn.Conv2d(32, 64, stride = 3),\n",
        "                                           nn.BatchNorm2d(64),\n",
        "                                           nn.Relu(),\n",
        "                                           nn.Upsample(scale_factor=3, mode='bilinear', align_corners=True)\n",
        "                                          )\n",
        "    \n",
        "    \n",
        "    self.top_conv = nn.Sequential(\n",
        "        nn.Conv2d(in_channels=512, out_channels=128, kernel_size=1),\n",
        "        nn.ReLU())\n",
        "\n",
        "    self.lateral_conv1 = nn.Sequential(\n",
        "        nn.Conv2d(in_channels=256, out_channels=128, kernel_size=1),\n",
        "        nn.ReLU())\n",
        "\n",
        "    self.lateral_conv2 = nn.Sequential(\n",
        "        nn.Conv2d(in_channels=128, out_channels=128, kernel_size=1),\n",
        "        nn.ReLU())\n",
        "\n",
        "    self.lateral_conv3 = nn.Sequential(\n",
        "        nn.Conv2d(in_channels=64, out_channels=128, kernel_size=1),\n",
        "        nn.ReLU())\n",
        "\n",
        "    # background is considered as one additional class\n",
        "    #   with label '0' by default\n",
        "    self.segmentation_conv = nn.Sequential(\n",
        "        nn.Conv2d(128, 64, kernel_size=3, stride=1, padding=1),\n",
        "        nn.ReLU(),\n",
        "        nn.Conv2d(64, self.args.n_classes + 1, kernel_size=1)\n",
        "    )\n",
        "\n",
        "\n",
        "\n",
        "  def upsample_add(self, low_res_map, high_res_map):\n",
        "      upsampled_map = nn.UpsamplingBilinear2d(scale_factor=2)(low_res_map)\n",
        "      return upsampled_map + high_res_map\n",
        "\n",
        "  def forward(self, x):\n",
        "\n",
        "      # Encoder\n",
        "      c1 =  self.res18_backbone(img)\n",
        "      c2 =  self.conv2_x(c1)# 48 x 64\n",
        "      c3 =  self.conv3_x(c2)# 24 x 32\n",
        "      c4 =  self.conv4_x(c3)# 12 x 16\n",
        "      c5 =  self.conv5_x(c4)# 6 x 8\n",
        "      # Decoder\n",
        "      p5 =   self.top_conv(c5)# 6 x 8\n",
        "      p4 =   self.upsample_add(p5,self.lateral_conv1(c4))# 12 x 16\n",
        "      p3 =   self.upsample_add(p4,self.lateral_conv2(c3))# 24 x 32\n",
        "      p2 =   self.upsample_add(p3,self.lateral_conv3(c2))# 48 x 64\n",
        "      out = nn.UpsamplingBilinear2d(scale_factor=2)(p2)\n",
        "      out = self.segmentation_conv(out)\n",
        "      return out\n",
        "\n",
        "\n"
      ],
      "metadata": {
        "id": "FZiBPuw2jm3P"
      },
      "execution_count": null,
      "outputs": []
    }
  ]
}